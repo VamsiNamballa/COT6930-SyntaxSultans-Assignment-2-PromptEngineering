{
 "cells": [
  {
   "cell_type": "markdown",
   "metadata": {},
   "source": [
    "\n",
    "\n"
   ]
  },
  {
   "cell_type": "markdown",
   "metadata": {},
   "source": [
    "# Chain-of-Thought Prompting\n",
    "\n",
    "Chain-of-Thought (CoT) prompting enhances complex reasoning by encouraging the model to break down problems into intermediate reasoning steps. When combined with few-shot prompting, it can significantly improve performance on tasks that require multi-step reasoning before arriving at a response.\n",
    "\n",
    "## Automatic Chain-of-Thought (Auto-CoT)\n",
    "\n",
    "Traditionally, using CoT prompting with demonstrations involves manually crafting diverse and effective examples. This manual effort is time-consuming and can lead to less-than-optimal results. To address this, Zhang et al. (2022) introduced Auto-CoT, an automated approach that minimizes manual involvement. Their method uses the prompt “Let’s think step by step” to generate reasoning chains automatically for demonstrations. However, this automatic process is not immune to errors. To reduce the impact of such mistakes, the approach emphasizes the importance of diverse demonstrations.\n",
    "\n",
    "Auto-CoT operates in two main stages:\n",
    "\n",
    "1. **Question Clustering:** Questions from the dataset are grouped into clusters based on similarity or relevance.\n",
    "2. **Demonstration Sampling:** A representative question from each cluster is selected, and its reasoning chain is generated using Zero-Shot-CoT guided by simple heuristics.\n",
    "\n",
    "\n",
    "## References:\n",
    "\n",
    "* (Wei et al. (2022),)[https://arxiv.org/abs/2201.11903]\n",
    "* (OpenAI Documentation for Prompt Engineering)[https://platform.openai.com/docs/guides/prompt-engineering]"
   ]
  },
  {
   "cell_type": "markdown",
   "metadata": {},
   "source": [
    "## Running this code on MyBind.org\n",
    "\n",
    "Note: remember that you will need to **adjust CONFIG** with **proper URL and API_KEY**!\n",
    "\n",
    "[![Binder](https://mybinder.org/badge_logo.svg)](https://mybinder.org/v2/gh/GenILab-FAU/prompt-eng/HEAD?urlpath=%2Fdoc%2Ftree%2Fprompt-eng%2Fchain_of_thought.ipynb)\n"
   ]
  },
  {
   "cell_type": "code",
   "execution_count": null,
   "metadata": {},
   "outputs": [
    {
     "name": "stdout",
     "output_type": "stream",
     "text": [
      "{'model': 'llama3.2:latest', 'messages': [{'role': 'user', 'content': '\\nYou are an AI specializing in Requirement Analysis for AI-powered applications.\\n\\nYour task is to generate a structured **requirement analysis** for a **Discord-based Education Chatbot** \\nthat helps students **understand advanced concepts easily** through simple explanations.\\n\\nThe requirement analysis should include:\\n1. **Project Overview** – High-level goal of the chatbot.\\n2. **User Roles & Stakeholders** – Define key users (students, teachers, admins).\\n3. **Key Features** – List and explain chatbot functionalities.\\n4. **Technical Requirements** – Define software stack, AI models, APIs, databases.\\n5. **AI-Powered Enhancements** – Use **Zero-Shot, Few-Shot, CoT, Self-Ask prompting** for improving explanations.\\n6. **User Interaction Flow** – Step-by-step interaction model.\\n7. **Performance Metrics** – Define how chatbot success will be measured.\\n\\nEnsure the response is structured, detailed, and formatted for easy readability.\\n'}]}\n",
      "\n",
      "Generated Requirement Analysis:\n",
      "\n",
      "\n",
      "Time taken: 2.046s\n",
      "Requirement Analysis saved to discord_chatbot_requirements.json\n"
     ]
    }
   ],
   "source": [
    "import json\n",
    "from _pipeline import create_payload, model_req\n",
    "\n",
    "### (1) Define the AI Prompt to Generate a Requirement Analysis\n",
    "REQ_ANALYSIS_PROMPT = \"\"\"\n",
    "You are an AI specializing in Requirement Analysis for AI-powered applications.\n",
    "\n",
    "Your task is to generate a structured **requirement analysis** for a **Discord-based Education Chatbot** \n",
    "that helps students **understand advanced concepts easily** through simple explanations.\n",
    "\n",
    "The requirement analysis should include:\n",
    "1. **Project Overview** – High-level goal of the chatbot.\n",
    "2. **User Roles & Stakeholders** – Define key users (students, teachers, admins).\n",
    "3. **Key Features** – List and explain chatbot functionalities.\n",
    "4. **Technical Requirements** – Define software stack, AI models, APIs, databases.\n",
    "5. **AI-Powered Enhancements** – Use **Zero-Shot, Few-Shot, CoT, Self-Ask prompting** for improving explanations.\n",
    "6. **User Interaction Flow** – Step-by-step interaction model.\n",
    "7. **Performance Metrics** – Define how chatbot success will be measured.\n",
    "\n",
    "Ensure the response is structured, detailed, and formatted for easy readability.\n",
    "\"\"\"\n",
    "\n",
    "### (2) Request AI to Generate Requirement Analysis\n",
    "payload = create_payload(target=\"open-webui\",\n",
    "                         model=\"llama3.2:latest\",\n",
    "                         prompt=REQ_ANALYSIS_PROMPT,\n",
    "                         temperature=0.7,\n",
    "                         num_ctx=5555555, #Initially 500, changed to 5555555\n",
    "                         num_predict=600) #Initially 400, changed to 600\n",
    "\n",
    "time_taken, response = model_req(payload=payload)\n",
    "print(f\"\\nGenerated Requirement Analysis:\\n{response}\\n\")\n",
    "if time_taken: print(f\"Time taken: {time_taken}s\")\n",
    "\n",
    "### (3) Store the Generated Requirement Analysis in a File\n",
    "results = {\n",
    "    \"Requirement Analysis\": response,\n",
    "    \"Generation Time\": time_taken\n",
    "}\n",
    "\n",
    "with open(\"discord_chatbot_requirements.json\", \"w\") as f:\n",
    "    json.dump(results, f, indent=4)\n",
    "\n",
    "print(\"Requirement Analysis saved to discord_chatbot_requirements.json\")\n"
   ]
  }
 ],
 "metadata": {
  "kernelspec": {
   "display_name": "base",
   "language": "python",
   "name": "python3"
  },
  "language_info": {
   "codemirror_mode": {
    "name": "ipython",
    "version": 3
   },
   "file_extension": ".py",
   "mimetype": "text/x-python",
   "name": "python",
   "nbconvert_exporter": "python",
   "pygments_lexer": "ipython3",
   "version": "3.11.5"
  }
 },
 "nbformat": 4,
 "nbformat_minor": 2
}
